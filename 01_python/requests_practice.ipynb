{
 "cells": [
  {
   "cell_type": "code",
   "execution_count": 21,
   "id": "b574c6e1",
   "metadata": {},
   "outputs": [
    {
     "name": "stdout",
     "output_type": "stream",
     "text": [
      "103753936000\n",
      "104840173000\n",
      "104932409000\n",
      "105259066000\n",
      "104007239000\n",
      "105301601000\n",
      "106510259000\n",
      "107045942000\n",
      "102891973000\n",
      "105380282000\n",
      "100923993000\n"
     ]
    }
   ],
   "source": [
    "# 1. 뭐가됐든 client(request 보낼 수 있는) 프로그램을 준비해서\n",
    "import requests\n",
    "\n",
    "\n",
    "\n",
    "# 2. url을 통해 요청을 보낸다(달라고 한다).\n",
    "for no in range(1036, 1047):\n",
    "    url = f'https://www.dhlottery.co.kr/common.do?method=getLottoNumber&drwNo={no}'\n",
    "    data = requests.get(url).json()\n",
    "    print(data['totSellamnt'])"
   ]
  },
  {
   "cell_type": "code",
   "execution_count": 23,
   "id": "a03124f8",
   "metadata": {},
   "outputs": [
    {
     "name": "stdout",
     "output_type": "stream",
     "text": [
      "{'dates': {'maximum': '2023-01-17', 'minimum': '2022-12-29'}, 'page': 1, 'results': [{'adult': False, 'backdrop_path': '/7zQJYV02yehWrQN6NjKsBorqUUS.jpg', 'genre_ids': [28, 18, 36], 'id': 724495, 'original_language': 'en', 'original_title': 'The Woman King', 'overview': '', 'popularity': 1975.04, 'poster_path': '/438QXt1E3WJWb3PqNniK0tAE5c1.jpg', 'release_date': '2022-09-15', 'title': '더 우먼 킹', 'video': False, 'vote_average': 7.8, 'vote_count': 815}, {'adult': False, 'backdrop_path': '/xDMIl84Qo5Tsu62c9DGWhmPI67A.jpg', 'genre_ids': [28, 12, 878], 'id': 505642, 'original_language': 'en', 'original_title': 'Black Panther: Wakanda Forever', 'overview': '국왕이자 블랙 팬서인 티찰라의 죽음 이후 수많은 강대국으로부터 위협을 받게 된 와칸다. 라몬다, 슈리 그리고 나키아, 오코예, 음바쿠는 각자 사명감을 갖고 와칸다를 지키기 위해 외로운 싸움을 이어간다. 한편, 비브라늄의 패권을 둘러싼 미스터리한 음모와 함께 깊은 해저에서 모습을 드러낸 최강의 적 네이머와 탈로칸의 전사들은 와칸다를 향해 무차별 공격을 퍼붓기 시작하는데…', 'popularity': 1313.151, 'poster_path': '/3PCRWLeqp5y20k6XVzcamZR3BWF.jpg', 'release_date': '2022-11-09', 'title': '블랙 팬서: 와칸다 포에버', 'video': False, 'vote_average': 7.5, 'vote_count': 1415}, {'adult': False, 'backdrop_path': '/vNuHqmOJRQXY0PBd887DklSDlBP.jpg', 'genre_ids': [16, 12, 35, 10751, 14], 'id': 315162, 'original_language': 'en', 'original_title': 'Puss in Boots: The Last Wish', 'overview': \"아홉 개의 목숨 중 단 하나의 목숨만 남은 장화신은 고양이.  마지막 남은 목숨을 지키기 위해 히어로의 삶 대신 반려묘의 삶을 선택한 그에게 찾아온 마지막 기회, 바로 소원을 들어주는 소원별이 있는 곳을 알려주는 지도!  잃어버린 목숨을 되찾고 다시 히어로가 되기를 꿈꾸는 장화신은 고양이는 뜻밖에 동료가 된 앙숙 파트너 '키티 말랑손', 그저 친구들과 함께라면 모든 게 행복한 강아지 '페로'와 함께 소원별을 찾기 위해 길을 떠난다.  그리고 소원별을 노리는 또 다른 빌런들과 마주치게 되는데…\", 'popularity': 785.377, 'poster_path': '/58R71DxuezJ2qNg845FDxdPHoia.jpg', 'release_date': '2022-12-07', 'title': '장화신은 고양이: 끝내주는 모험', 'video': False, 'vote_average': 8, 'vote_count': 73}, {'adult': False, 'backdrop_path': '/tlin6STxxVoln0f818sEQYH7PyC.jpg', 'genre_ids': [27, 53], 'id': 663712, 'original_language': 'en', 'original_title': 'Terrifier 2', 'overview': '', 'popularity': 548.803, 'poster_path': '/8gLhu8UFPZfH2Hv11JhTZkb9CVl.jpg', 'release_date': '2022-10-06', 'title': '테리파이어 2', 'video': False, 'vote_average': 7, 'vote_count': 778}, {'adult': False, 'backdrop_path': '/c1bz69r0v065TGFA5nqBiKzPDys.jpg', 'genre_ids': [35, 10751, 10402], 'id': 830784, 'original_language': 'en', 'original_title': 'Lyle, Lyle, Crocodile', 'overview': '쇼맨 헥터(하비에르 바르뎀)는 어느 날 노래하는 악어 라일(숀 멘데스)을 발견하게 되고, 돈과 명예를 얻게 될 성공적인 무대를 꿈꾼다. 그러나 무대공포증에 있던 라일로 인해 무대는 실패하고 헥터는 라일을 홀로 도심에 남기고 떠난다.\\u200b  한편, 뉴욕에 이사 온 프림 가족은 매일 밤 의문의 노랫소리로 신기한 경험을 하게 되고, 그 놀라운 정체와 마주하게 되면서 인생이 바뀌게 되는데…', 'popularity': 576.19, 'poster_path': '/u0g1pHpxIWJskWc4LMGsy3qcNNQ.jpg', 'release_date': '2022-10-07', 'title': '라일 라일 크로커다일', 'video': False, 'vote_average': 7.8, 'vote_count': 199}, {'adult': False, 'backdrop_path': '/rodjjIJ8oh9nuBp86PhojcYHTEN.jpg', 'genre_ids': [28, 53, 80, 18], 'id': 740952, 'original_language': 'en', 'original_title': 'Savage Salvation', 'overview': '', 'popularity': 659.235, 'poster_path': '/fJRt3mmZEvf8gQzoNLzjPtWpc9o.jpg', 'release_date': '2022-12-02', 'title': 'Savage Salvation', 'video': False, 'vote_average': 4.4, 'vote_count': 9}, {'adult': False, 'backdrop_path': '/9Md4CqzUGDtK5oEkRRvozLkGc9d.jpg', 'genre_ids': [18, 35], 'id': 674324, 'original_language': 'en', 'original_title': 'The Banshees of Inisherin', 'overview': '파드레익은 아일랜드의 시골 마을에서 누나와 단둘이 살고 있다. 그가 교류하는 사람은 오랜 절친 콤과 마을 유일한 경찰의 아들 도미닉 뿐이다. 어느 날, 콤이 파드레익에게 절교를 선언하고 그를 피하기 시작한다. 일방적인 절교를 받아들일 수 없던 파드레익은 계속해서 그의 주변을 맴돌고, 이에 콤이 극단적인 방법을 선택하면서 둘의 운명은 전혀 예상치 못한 방향으로 흘러간다.', 'popularity': 530.87, 'poster_path': '/4yFG6cSPaCaPhyJ1vtGOtMD1lgh.jpg', 'release_date': '2022-10-21', 'title': '이니셰린의 밴시', 'video': False, 'vote_average': 7.7, 'vote_count': 183}, {'adult': False, 'backdrop_path': '/6RCf9jzKxyjblYV4CseayK6bcJo.jpg', 'genre_ids': [18, 35], 'id': 804095, 'original_language': 'en', 'original_title': 'The Fabelmans', 'overview': '제2차 세계 대전 이후 애리조나에서 자란 새미 파벨만이라는 한 젊은이는  파괴적인 가족 비밀을 발견하고 영화의 힘이 진실을 보는 데  어떻게 도움이 되는지 탐구합니다.', 'popularity': 415.967, 'poster_path': '/xId9zoiv5WPQOuxqykUDrlpmrUz.jpg', 'release_date': '2022-11-11', 'title': '더 파벨만스', 'video': False, 'vote_average': 7.9, 'vote_count': 118}, {'adult': False, 'backdrop_path': '/uR0FopHrAjDlG5q6PZB07a1JOva.jpg', 'genre_ids': [16, 878, 28], 'id': 610150, 'original_language': 'ja', 'original_title': 'ドラゴンボール超 スーパーヒーロー', 'overview': '2018년에 개봉한 에 이은  시리즈의 두 번째 영화', 'popularity': 362.985, 'poster_path': '/uohymzBVaIYjbnoQstbnlia6ZPJ.jpg', 'release_date': '2022-06-11', 'title': '드래곤볼 슈퍼: 슈퍼 히어로', 'video': False, 'vote_average': 8, 'vote_count': 2092}, {'adult': False, 'backdrop_path': '/fMymfWwgTfXh9RkBCFuaZrdn8Of.jpg', 'genre_ids': [28, 27], 'id': 760204, 'original_language': 'vi', 'original_title': 'The Lair', 'overview': '', 'popularity': 335.301, 'poster_path': '/ifRFLx83Xk1DcwAS3OScgI6HmWO.jpg', 'release_date': '2022-10-28', 'title': '더 레어', 'video': False, 'vote_average': 6.1, 'vote_count': 41}, {'adult': False, 'backdrop_path': '/etP5jwlwvkNhwe7jnI2AyA6ZKrR.jpg', 'genre_ids': [878], 'id': 575322, 'original_language': 'en', 'original_title': 'Звёздный разум', 'overview': '치명적인 바이러스로 지구의 식물들이 파괴된 지 3년 후 산소가 부족해지고 과학자들은 전 인류를 구하기 위해 새로운 행성을 찾는 미션을 받고 우주로 떠난다. 하지만, 우주선은 입력한 궤도와는 전혀 다른 방향으로 이끌려가 알 수 없는 행성에 고립되고 비행 멤버들은 상상할 수 없는 존재로부터 공격을 받기 시작하는데…!', 'popularity': 481.873, 'poster_path': '/iVwd4NKcvWIfxP36DsCBHd7lqEE.jpg', 'release_date': '2022-01-06', 'title': '제미나이: 지구 최후의 날', 'video': False, 'vote_average': 5.6, 'vote_count': 183}, {'adult': False, 'backdrop_path': '/2iGUavwv86Hubv3V5Iq4qEQXDfE.jpg', 'genre_ids': [53, 18, 27], 'id': 848058, 'original_language': 'es', 'original_title': 'Cerdita', 'overview': '스페인 남부의 여름. 사라는 냉담한 가족들이 경영하는 정육점에 박혀 다른 누군가가 되는 것을 꿈꾼다. 설상가상 다른 여자아이들로부터 지속적인 괴롭힘을 당한다. 어느 날, 강에서 사라는 정체를 알 수 없는 낯선 사람이 사라를 괴롭혔던 아이들을 납치하는 것을 목격한다. 사라가 소리를 질러야 할까?', 'popularity': 197.565, 'poster_path': '/kmCjZjm4CHuuJdwUdn3h93WqDdR.jpg', 'release_date': '2022-10-07', 'title': '피기', 'video': False, 'vote_average': 6.7, 'vote_count': 239}, {'adult': False, 'backdrop_path': '/7HqxI1IXMloT9VTSuDC8ikaj810.jpg', 'genre_ids': [27, 878, 53], 'id': 536554, 'original_language': 'en', 'original_title': 'M3GAN', 'overview': '교통사고로 부모를 잃고 혼자가 된 소녀 ‘케이디’의 친구가 되기 위해 만들어진 AI 로봇 ‘메간’이 끝까지 ‘케이디’를 지키기 위해 예상치 못한 일을 벌이는 호러', 'popularity': 186.308, 'poster_path': '/vwDh6Mnc4iaZu8L2Ffvfzmsqeu2.jpg', 'release_date': '2022-12-29', 'title': '메간', 'video': False, 'vote_average': 0, 'vote_count': 0}, {'adult': False, 'backdrop_path': '/oCKZAdUROqdlTcUOstqJ1gM8JQt.jpg', 'genre_ids': [18, 35], 'id': 615777, 'original_language': 'en', 'original_title': 'Babylon', 'overview': '황홀하면서도 위태로운 고대 도시, 바빌론에 비유되던 할리우드. 꿈 하나만을 위해 모인 사람들이 이를 쟁취하기 위해 벌이는 강렬하면서도 매혹적인 이야기', 'popularity': 127.075, 'poster_path': '/5Wnt03vRoKphp1ADWgHKus20vLX.jpg', 'release_date': '2022-12-23', 'title': '바빌론', 'video': False, 'vote_average': 5, 'vote_count': 3}, {'adult': False, 'backdrop_path': '/591Cjf3DWGAcJbQYdHmRS7fHH3z.jpg', 'genre_ids': [27, 9648, 53], 'id': 811656, 'original_language': 'en', 'original_title': 'Monstrous', 'overview': '이야기는 7세 아들과 함께 학대를 당한 전 남편에게서 도망치는 외상을 입은 여성의 이야기를 중심으로 합니다. 새로운 외딴 성역에서 그들은 처리해야 할 더 크고 무서운 괴물이 있음을 알게 됩니다.', 'popularity': 174.616, 'poster_path': '/ec3aX4DyjepEhPkpIUukaBxKpN3.jpg', 'release_date': '2022-05-13', 'title': '몬스트러스', 'video': False, 'vote_average': 6.2, 'vote_count': 130}, {'adult': False, 'backdrop_path': '/5tb7RjF0OAAaiGDUXsuedvhoGqV.jpg', 'genre_ids': [18, 36], 'id': 837881, 'original_language': 'en', 'original_title': 'She Said', 'overview': '미국의 대표 일간지 뉴욕타임스의 탐사 보도 취재 기자 메건 투히와 조디 캔터는 모두가 침묵하고 있던 할리우드의 악마 하비 와인스타인의 성추문 의혹을 취재하기 시작한다. 하지만 굳게 입을 다문 피해자들과 오히려 가해자를 보호하는 시스템이 이들을 막아서고 진실에 파고들던 두 사람은 생명의 위협까지 받게 되는데... 세상의 변화를 이끌어낸 이들의 집요한 진실 추적기가 시작된다.', 'popularity': 125.422, 'poster_path': '/c4vgMNRhPMFnruvlTjTC27yaQd3.jpg', 'release_date': '2022-11-17', 'title': '그녀가 말했다', 'video': False, 'vote_average': 7.3, 'vote_count': 118}, {'adult': False, 'backdrop_path': '/9VIURlZvfnmFACs2m0MdUDDC3In.jpg', 'genre_ids': [14, 18, 10749], 'id': 556694, 'original_language': 'en', 'original_title': 'Three Thousand Years of Longing', 'overview': '세상 모든 이야기에 통달한 서사학자 알리테아가 우연히 소원을 이뤄주는 정령 지니를 깨워낸다. 그녀에게 주어진 기회는 단 세 번. 마음속 가장 깊은 곳, 가장 오랫동안 바라온 소원을 말할 것!', 'popularity': 88.618, 'poster_path': '/hHmJGgb29sIxSK9EOf6d68mDnEM.jpg', 'release_date': '2022-08-24', 'title': '3000년의 기다림', 'video': False, 'vote_average': 7.1, 'vote_count': 528}, {'adult': False, 'backdrop_path': '/fwnXTIWQl1Ky6CgcWMBhkn9uV3g.jpg', 'genre_ids': [18, 10402], 'id': 817758, 'original_language': 'en', 'original_title': 'TÁR', 'overview': '', 'popularity': 85.138, 'poster_path': '/dRVAlaU0vbG6hMf2K45NSiIyoUe.jpg', 'release_date': '2022-10-07', 'title': '타르', 'video': False, 'vote_average': 7.6, 'vote_count': 92}, {'adult': False, 'backdrop_path': '/qp8qKiP7Q7zK4z3LItwWMHfV9kJ.jpg', 'genre_ids': [53], 'id': 764835, 'original_language': 'en', 'original_title': 'The Desperate Hour', 'overview': '긴급 경보 : 교내 총격 테러 발생  오전 8:00 에이미는 학교를 가기 싫어하는 아들을 뒤로 한 채 조깅을 나선다. 오전 8:59 아들의 학교에서 총격 테러가 발생했다. 오전 9:00 아들에게 연락이 닿지 않는다. 오전 9:36 아들이 유력한 용의자로 의심받고 있는 것을 알게 된다.  단 한 걸음도, 단 한 순간도 놓치지 못할 리얼 타임 서스펜스가 펼쳐진다!', 'popularity': 64.62, 'poster_path': '/nowGRB6389FFRoGEhq4wsu1GOit.jpg', 'release_date': '2021-09-12', 'title': '패닉 런', 'video': False, 'vote_average': 6.1, 'vote_count': 299}, {'adult': False, 'backdrop_path': '/vNPY4oCSUp7CxbHkKJNRx1fmCl0.jpg', 'genre_ids': [35, 18], 'id': 497828, 'original_language': 'en', 'original_title': 'Triangle of Sadness', 'overview': '부유한 패션 모델과 인스타그램 인플루언서 커플 등이 호화 유람선에 올라탄 뒤 이 배가 좌초되면서 유일하게 낚시를 할 줄 아는 청소부를 중심으로 계급관계가 반전되는 이야기', 'popularity': 77.229, 'poster_path': '/fgy78BLl0gk8OzTWHZyGrSlIEON.jpg', 'release_date': '2022-09-23', 'title': '슬픔의 삼각형', 'video': False, 'vote_average': 7.6, 'vote_count': 435}], 'total_pages': 18, 'total_results': 355}\n"
     ]
    },
    {
     "data": {
      "text/plain": [
       "'\\nhttps://api.themoviedb.org/3\\n/movie/upcoming\\n?\\napi_key=68c36bcac7f38b09c933975c8ce9c200\\n&\\nlanguage=ko-KR\\n'"
      ]
     },
     "execution_count": 23,
     "metadata": {},
     "output_type": "execute_result"
    }
   ],
   "source": [
    "import requests\n",
    "\n",
    "key = '68c36bcac7f38b09c933975c8ce9c200'\n",
    "url = 'https://api.themoviedb.org/3/movie/upcoming?api_key=68c36bcac7f38b09c933975c8ce9c200&language=ko-KR'\n",
    "\n",
    "data = requests.get(url).json()\n",
    "\n",
    "print(data)\n",
    "\n",
    "'''\n",
    "https://api.themoviedb.org/3\n",
    "/movie/upcoming\n",
    "?\n",
    "api_key=68c36bcac7f38b09c933975c8ce9c200\n",
    "&\n",
    "language=ko-KR\n",
    "'''"
   ]
  }
 ],
 "metadata": {
  "kernelspec": {
   "display_name": "Python 3 (ipykernel)",
   "language": "python",
   "name": "python3"
  },
  "language_info": {
   "codemirror_mode": {
    "name": "ipython",
    "version": 3
   },
   "file_extension": ".py",
   "mimetype": "text/x-python",
   "name": "python",
   "nbconvert_exporter": "python",
   "pygments_lexer": "ipython3",
   "version": "3.10.9"
  }
 },
 "nbformat": 4,
 "nbformat_minor": 5
}
