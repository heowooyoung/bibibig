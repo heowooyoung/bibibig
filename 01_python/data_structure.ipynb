{
 "cells": [
  {
   "cell_type": "code",
   "execution_count": 23,
   "id": "87eab4a2",
   "metadata": {},
   "outputs": [
    {
     "data": {
      "text/plain": [
       "([ 1 | 0x0 ], [ 2 | 0x0 ], [ 3 | 0x0 ])"
      ]
     },
     "execution_count": 23,
     "metadata": {},
     "output_type": "execute_result"
    }
   ],
   "source": [
    "# Node\n",
    "\n",
    "class Node:\n",
    "    def __init__(self, value, next_id=0):\n",
    "        self.value = value\n",
    "        self.next_id = next_id\n",
    "    \n",
    "    def __repr__(self):\n",
    "        return f'[ {self.value} | {hex(self.next_id)} ]'\n",
    "\n",
    "n1 = Node(1)\n",
    "n2 = Node(2)\n",
    "n3 = Node(3)\n",
    "\n",
    "n1, n2, n3"
   ]
  },
  {
   "cell_type": "code",
   "execution_count": 24,
   "id": "b33bc5b1",
   "metadata": {},
   "outputs": [
    {
     "data": {
      "text/plain": [
       "([ 1 | 0x28e812438b0 ], [ 2 | 0x28e812bc4c0 ], [ 3 | 0x0 ])"
      ]
     },
     "execution_count": 24,
     "metadata": {},
     "output_type": "execute_result"
    }
   ],
   "source": [
    "# Linked List\n",
    "\n",
    "class LinkedList:\n",
    "    def __init__(self, *nodes):\n",
    "        for idx in range(len(nodes)-1):\n",
    "            nodes[idx].next_id = id(nodes[idx+1])\n",
    "            \n",
    "        self.first = nodes[0]\n",
    "            \n",
    "\n",
    "ll = LinkedList(n1, n2, n3)\n",
    "\n",
    "n1, n2, n3"
   ]
  },
  {
   "cell_type": "code",
   "execution_count": 17,
   "id": "e044d1eb",
   "metadata": {},
   "outputs": [
    {
     "data": {
      "text/plain": [
       "True"
      ]
     },
     "execution_count": 17,
     "metadata": {},
     "output_type": "execute_result"
    }
   ],
   "source": [
    "n2.next_id == id(n3)"
   ]
  },
  {
   "cell_type": "code",
   "execution_count": null,
   "id": "c7bcad84",
   "metadata": {},
   "outputs": [],
   "source": []
  },
  {
   "cell_type": "code",
   "execution_count": null,
   "id": "9c0bbdfc",
   "metadata": {},
   "outputs": [],
   "source": []
  },
  {
   "cell_type": "code",
   "execution_count": null,
   "id": "8c6ce039",
   "metadata": {},
   "outputs": [],
   "source": []
  }
 ],
 "metadata": {
  "kernelspec": {
   "display_name": "Python 3 (ipykernel)",
   "language": "python",
   "name": "python3"
  },
  "language_info": {
   "codemirror_mode": {
    "name": "ipython",
    "version": 3
   },
   "file_extension": ".py",
   "mimetype": "text/x-python",
   "name": "python",
   "nbconvert_exporter": "python",
   "pygments_lexer": "ipython3",
   "version": "3.10.9"
  }
 },
 "nbformat": 4,
 "nbformat_minor": 5
}
